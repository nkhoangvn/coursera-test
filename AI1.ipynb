{
  "nbformat": 4,
  "nbformat_minor": 0,
  "metadata": {
    "colab": {
      "provenance": [],
      "authorship_tag": "ABX9TyOQRaYmrJZbqXbkAHi3NTnp",
      "include_colab_link": true
    },
    "kernelspec": {
      "name": "python3",
      "display_name": "Python 3"
    },
    "language_info": {
      "name": "python"
    }
  },
  "cells": [
    {
      "cell_type": "markdown",
      "metadata": {
        "id": "view-in-github",
        "colab_type": "text"
      },
      "source": [
        "<a href=\"https://colab.research.google.com/github/nkhoangvn/coursera-test/blob/homework/AI1.ipynb\" target=\"_parent\"><img src=\"https://colab.research.google.com/assets/colab-badge.svg\" alt=\"Open In Colab\"/></a>"
      ]
    },
    {
      "cell_type": "code",
      "execution_count": null,
      "metadata": {
        "id": "z3X1NTRAGorv"
      },
      "outputs": [],
      "source": [
        "import numpy as np\n",
        "\n",
        "\n",
        "def BFS(matrix, start, end):\n",
        "    \"\"\"\n",
        "    BFS algorithm:\n",
        "    Parameters:\n",
        "    ---------------------------\n",
        "    matrix: np array\n",
        "        The graph's adjacency matrix\n",
        "    start: integer\n",
        "        starting node\n",
        "    end: integer\n",
        "        ending node\n",
        "\n",
        "    Returns\n",
        "    ---------------------\n",
        "    visited\n",
        "        The dictionary contains visited nodes, each key is a visited node,\n",
        "        each value is the adjacent node visited before it.\n",
        "    path: list\n",
        "        Founded path\n",
        "    \"\"\"\n",
        "    # TODO:\n",
        "\n",
        "    path=[]\n",
        "    visited={}\n",
        "\n",
        "    return visited, path"
      ]
    },
    {
      "cell_type": "code",
      "source": [
        "# prompt: create a breadth first search with the input.txt file and return the visited nodes and path of found nodes\n",
        "\n",
        "import numpy as np\n",
        "\n",
        "\n",
        "def BFS(matrix, start, end):\n",
        "    \"\"\"\n",
        "    BFS algorithm:\n",
        "    Parameters:\n",
        "    ---------------------------\n",
        "    matrix: np array\n",
        "        The graph's adjacency matrix\n",
        "    start: integer\n",
        "        starting node\n",
        "    end: integer\n",
        "        ending node\n",
        "\n",
        "    Returns\n",
        "    ---------------------\n",
        "    visited\n",
        "        The dictionary contains visited nodes, each key is a visited node,\n",
        "        each value is the adjacent node visited before it.\n",
        "    path: list\n",
        "        Founded path\n",
        "    \"\"\"\n",
        "    visited = {}\n",
        "    queue = []\n",
        "\n",
        "    # Mark the start node as visited and add it to the queue\n",
        "    visited[start] = None\n",
        "    queue.append(start)\n",
        "\n",
        "    while queue:\n",
        "        # Dequeue the first node from the queue\n",
        "        node = queue.pop(0)\n",
        "\n",
        "        # If the node is the end node, return the path\n",
        "        if node == end:\n",
        "            path = []\n",
        "            current = node\n",
        "            while current is not None:\n",
        "                path.append(current)\n",
        "                current = visited[current]\n",
        "            return visited, path[::-1]\n",
        "\n",
        "        # For each adjacent node of the current node\n",
        "        for i in range(len(matrix[node])):\n",
        "            if matrix[node][i] == 1 and i not in visited:\n",
        "                # Mark the adjacent node as visited and add it to the queue\n",
        "                visited[i] = node\n",
        "                queue.append(i)\n",
        "\n",
        "    # If the end node was not found, return an empty path\n",
        "    return visited, []\n",
        "\n",
        "\n",
        "# Read the input.txt file and create the adjacency matrix\n",
        "with open('input.txt', 'r') as f:\n",
        "    lines = f.readlines()\n",
        "    n = int(lines[0])\n",
        "    matrix = np.zeros((n, n), dtype=int)\n",
        "    for line in lines[1:]:\n",
        "        i, j = map(int, line.split())\n",
        "        matrix[i - 1][j - 1] = 1\n",
        "        matrix[j - 1][i - 1] = 1\n",
        "\n",
        "# Call the BFS function and print the results\n",
        "visited, path = BFS(matrix, 0, n - 1)\n",
        "print(\"Visited nodes:\", visited)\n",
        "print(\"Path:\", path)\n"
      ],
      "metadata": {
        "id": "IQ344PMUG6vZ"
      },
      "execution_count": null,
      "outputs": []
    }
  ]
}